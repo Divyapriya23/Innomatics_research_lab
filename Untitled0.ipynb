{
  "nbformat": 4,
  "nbformat_minor": 0,
  "metadata": {
    "colab": {
      "provenance": []
    },
    "kernelspec": {
      "name": "python3",
      "display_name": "Python 3"
    },
    "language_info": {
      "name": "python"
    }
  },
  "cells": [
    {
      "cell_type": "markdown",
      "source": [
        "**Innomatics Hackathon Entrance Test**\n"
      ],
      "metadata": {
        "id": "st8RRmB5rZFp"
      }
    },
    {
      "cell_type": "code",
      "execution_count": 22,
      "metadata": {
        "id": "FJFdPOSCXJr5"
      },
      "outputs": [],
      "source": [
        "import pandas as pd\n",
        "import numpy as np\n",
        "\n",
        "movies=pd.read_csv(\"movies.csv\")\n",
        "links=pd.read_csv(\"links.csv\")\n",
        "ratings=pd.read_csv(\"ratings.csv\")\n",
        "tags=pd.read_csv(\"tags.csv\")\n",
        "\n"
      ]
    },
    {
      "cell_type": "code",
      "source": [
        "# What is the shape of \"movies.csv\"\n",
        "\n",
        "movies.shape\n"
      ],
      "metadata": {
        "colab": {
          "base_uri": "https://localhost:8080/"
        },
        "id": "wFNhTXNpsI1u",
        "outputId": "c67fbd48-7865-4a21-8ef5-d49b665f7393"
      },
      "execution_count": 24,
      "outputs": [
        {
          "output_type": "execute_result",
          "data": {
            "text/plain": [
              "(9742, 3)"
            ]
          },
          "metadata": {},
          "execution_count": 24
        }
      ]
    },
    {
      "cell_type": "code",
      "source": [
        "# What is the shape of \"ratings.csv\"\n",
        "\n",
        "ratings.shape\n",
        "\n",
        "\n",
        "\n"
      ],
      "metadata": {
        "colab": {
          "base_uri": "https://localhost:8080/"
        },
        "id": "OviCqYJ3sI4r",
        "outputId": "4e2eb9d8-91c0-4ae9-ebf2-784c4ce1f558"
      },
      "execution_count": 25,
      "outputs": [
        {
          "output_type": "execute_result",
          "data": {
            "text/plain": [
              "(100836, 4)"
            ]
          },
          "metadata": {},
          "execution_count": 25
        }
      ]
    },
    {
      "cell_type": "code",
      "source": [
        "# How many unique \"userId\" are available in \"ratings.csv\"?\n",
        "\n",
        "len(ratings[\"userId\"].unique())\n"
      ],
      "metadata": {
        "colab": {
          "base_uri": "https://localhost:8080/"
        },
        "id": "rohsP2oesI6s",
        "outputId": "78d76c77-67b1-4fd4-e523-b8a28434fb55"
      },
      "execution_count": 27,
      "outputs": [
        {
          "output_type": "execute_result",
          "data": {
            "text/plain": [
              "610"
            ]
          },
          "metadata": {},
          "execution_count": 27
        }
      ]
    },
    {
      "cell_type": "code",
      "source": [
        "#Which movie has recieved maximum number of user ratings?\n",
        "\n",
        "movie_rating_max= ratings[ratings[\"rating\"]==5]\n",
        "max_rating_counts = movie_rating_max['movieId'].value_counts()\n",
        "\n",
        "max_rating_movie_id = max_rating_counts.idxmax()\n",
        "\n",
        "movies[movies[\"movieId\"]==max_rating_movie_id].title\n"
      ],
      "metadata": {
        "colab": {
          "base_uri": "https://localhost:8080/"
        },
        "id": "lLItz-KAsI97",
        "outputId": "8334bcd0-8b45-4ba0-d887-aa633982713e"
      },
      "execution_count": 33,
      "outputs": [
        {
          "output_type": "execute_result",
          "data": {
            "text/plain": [
              "277    Shawshank Redemption, The (1994)\n",
              "Name: title, dtype: object"
            ]
          },
          "metadata": {},
          "execution_count": 33
        }
      ]
    },
    {
      "cell_type": "code",
      "source": [
        "#Select all the correct tags submitted by users to \"Matrix, The (1999)\" movie?\n",
        "\n",
        "\n",
        "mov_id =movies[movies[\"title\"]==\"Matrix, The (1999)\"].movieId\n",
        "matrix_movie_id= movies[movies[\"title\"]==\"Matrix, The (1999)\"][\"movieId\"].values[0]\n",
        "\n",
        "matrix_tags= tags[tags[\"movieId\"] == matrix_movie_id][\"tag\"]\n",
        "\n",
        "\n",
        "print(\"Tags for 'Matrix, The (1999)':\")\n",
        "print(matrix_tags)\n"
      ],
      "metadata": {
        "colab": {
          "base_uri": "https://localhost:8080/"
        },
        "id": "5l1gpn4psJAO",
        "outputId": "062eb5c8-a8ab-4f12-d770-3847bac51b17"
      },
      "execution_count": 35,
      "outputs": [
        {
          "output_type": "stream",
          "name": "stdout",
          "text": [
            "Tags for 'Matrix, The (1999)':\n",
            "815           martial arts\n",
            "816                 sci-fi\n",
            "1646    alternate universe\n",
            "2794            philosophy\n",
            "2795      post apocalyptic\n",
            "Name: tag, dtype: object\n"
          ]
        }
      ]
    },
    {
      "cell_type": "code",
      "source": [
        "# What is the average user rating for movie named \"Terminator 2: Judgment Day (1991)\"\n",
        "\n",
        "\n",
        "terminator2_movie_id = movies[movies[\"title\"]==\"Terminator 2: Judgment Day (1991)\"][\"movieId\"].values[0]\n",
        "\n",
        "terminator2_ratings = ratings[ratings[\"movieId\"]==terminator2_movie_id]\n",
        "\n",
        "terminator2_ratings[\"rating\"].mean()"
      ],
      "metadata": {
        "colab": {
          "base_uri": "https://localhost:8080/"
        },
        "id": "H4ctIyilsJCR",
        "outputId": "a211d8fc-9d6c-4b68-d3f7-981e6f640356"
      },
      "execution_count": 36,
      "outputs": [
        {
          "output_type": "execute_result",
          "data": {
            "text/plain": [
              "3.970982142857143"
            ]
          },
          "metadata": {},
          "execution_count": 36
        }
      ]
    },
    {
      "cell_type": "code",
      "source": [
        "# How does the data distribution of user ratings for \"Fight Club (1999)\" movie looks like\n",
        "\n",
        "movie_id =movies[movies[\"title\"]==\"Fight Club (1999)\"][\"movieId\"].values[0]\n",
        "\n",
        "fight_club_ratings= ratings[ratings[\"movieId\"] ==movie_id]\n",
        "\n",
        "fight_club_ratings[\"rating\"].plot(kind=\"kde\")\n",
        "\n",
        "mean=fight_club_ratings[\"rating\"].mean()\n",
        "med=fight_club_ratings[\"rating\"].median()\n",
        "print(mean>med)\n"
      ],
      "metadata": {
        "colab": {
          "base_uri": "https://localhost:8080/",
          "height": 448
        },
        "id": "cuQ6PeGgsJEo",
        "outputId": "deb0c929-0ac8-4350-cbf7-49b1f0683095"
      },
      "execution_count": 37,
      "outputs": [
        {
          "output_type": "stream",
          "name": "stdout",
          "text": [
            "False\n"
          ]
        },
        {
          "output_type": "display_data",
          "data": {
            "text/plain": [
              "<Figure size 640x480 with 1 Axes>"
            ],
            "image/png": "[encoded data removed]"
          },
          "metadata": {}
        }
      ]
    },
    {
      "cell_type": "code",
      "source": [
        "import pandas as pd\n",
        "\n",
        "ratings_df = pd.read_csv('ratings.csv')\n",
        "movies_df = pd.read_csv('movies.csv')\n",
        "\n",
        "ratings_grouped = ratings_df.groupby('movieId').agg({'rating': ['count', 'mean']}).reset_index()\n",
        "ratings_grouped.columns = ['movieId', 'rating_count', 'average_rating']\n",
        "\n",
        "merged_df = pd.merge(movies_df, ratings_grouped, on='movieId', how='inner')\n",
        "\n",
        "popular_movies = merged_df[merged_df['rating_count'] > 50]\n",
        "\n",
        "most_popular_movie = popular_movies.loc[popular_movies['average_rating'].idxmax()]\n",
        "\n",
        "print(\"Most Popular Movie:\")\n",
        "print(\"Movie ID:\", most_popular_movie['movieId'])\n",
        "print(\"Title:\", most_popular_movie['title'])\n",
        "print(\"Average Rating:\", most_popular_movie['average_rating'])\n"
      ],
      "metadata": {
        "colab": {
          "base_uri": "https://localhost:8080/"
        },
        "id": "eYl1FmRjgmBI",
        "outputId": "282c9b8a-3269-4568-ac31-59dbf3d9cca4"
      },
      "execution_count": 38,
      "outputs": [
        {
          "output_type": "stream",
          "name": "stdout",
          "text": [
            "Most Popular Movie:\n",
            "Movie ID: 318\n",
            "Title: Shawshank Redemption, The (1994)\n",
            "Average Rating: 4.429022082018927\n"
          ]
        }
      ]
    },
    {
      "cell_type": "code",
      "source": [
        "import pandas as pd\n",
        "\n",
        "ratings_df = pd.read_csv('ratings.csv')\n",
        "movies_df = pd.read_csv('movies.csv')\n",
        "\n",
        "ratings_grouped = ratings_df.groupby('movieId').agg({'rating': ['count', 'mean']}).reset_index()\n",
        "ratings_grouped.columns = ['movieId', 'rating_count', 'average_rating']\n",
        "\n",
        "merged_df = pd.merge(movies_df, ratings_grouped, on='movieId', how='inner')\n",
        "\n",
        "popular_movies = merged_df[merged_df['rating_count'] > 50]\n",
        "\n",
        "top_5_popular_movies = popular_movies.sort_values(by='rating_count', ascending=False).head(5)\n",
        "\n",
        "print(\"Top 5 Popular Movies Based on Number of User Ratings:\")\n",
        "for index, movie in top_5_popular_movies.iterrows():\n",
        "    print(\"Movie ID:\", movie['movieId'])\n",
        "    print(\"Title:\", movie['title'])\n",
        "    print(\"Number of User Ratings:\", movie['rating_count'])\n",
        "    print(\"Average Rating:\", movie['average_rating'])\n",
        "    print(\"---\")\n"
      ],
      "metadata": {
        "colab": {
          "base_uri": "https://localhost:8080/"
        },
        "id": "UgJWWxSshGc8",
        "outputId": "61591897-1891-43eb-85b2-3ebd0bc64aaf"
      },
      "execution_count": 39,
      "outputs": [
        {
          "output_type": "stream",
          "name": "stdout",
          "text": [
            "Top 5 Popular Movies Based on Number of User Ratings:\n",
            "Movie ID: 356\n",
            "Title: Forrest Gump (1994)\n",
            "Number of User Ratings: 329\n",
            "Average Rating: 4.164133738601824\n",
            "---\n",
            "Movie ID: 318\n",
            "Title: Shawshank Redemption, The (1994)\n",
            "Number of User Ratings: 317\n",
            "Average Rating: 4.429022082018927\n",
            "---\n",
            "Movie ID: 296\n",
            "Title: Pulp Fiction (1994)\n",
            "Number of User Ratings: 307\n",
            "Average Rating: 4.197068403908795\n",
            "---\n",
            "Movie ID: 593\n",
            "Title: Silence of the Lambs, The (1991)\n",
            "Number of User Ratings: 279\n",
            "Average Rating: 4.161290322580645\n",
            "---\n",
            "Movie ID: 2571\n",
            "Title: Matrix, The (1999)\n",
            "Number of User Ratings: 278\n",
            "Average Rating: 4.192446043165468\n",
            "---\n"
          ]
        }
      ]
    },
    {
      "cell_type": "code",
      "source": [
        "import pandas as pd\n",
        "\n",
        "ratings_df = pd.read_csv('ratings.csv')\n",
        "movies_df = pd.read_csv('movies.csv')\n",
        "\n",
        "ratings_grouped = ratings_df.groupby('movieId').agg({'rating': ['count', 'mean']}).reset_index()\n",
        "ratings_grouped.columns = ['movieId', 'rating_count', 'average_rating']\n",
        "\n",
        "merged_df = pd.merge(movies_df, ratings_grouped, on='movieId', how='inner')\n",
        "\n",
        "# Filter only Sci-Fi movies with more than 50 user ratings\n",
        "scifi_movies = merged_df[(merged_df['rating_count'] > 50) & (merged_df['genres'].str.contains('Sci-Fi'))]\n",
        "\n",
        "# Identify the third most popular Sci-Fi movie based on the number of user ratings\n",
        "third_most_popular_scifi_movie = scifi_movies.sort_values(by='rating_count', ascending=False).iloc[2]\n",
        "\n",
        "# Display information about the third most popular Sci-Fi movie\n",
        "print(\"Third Most Popular Sci-Fi Movie Based on Number of User Ratings:\")\n",
        "print(\"Movie ID:\", third_most_popular_scifi_movie['movieId'])\n",
        "print(\"Title:\", third_most_popular_scifi_movie['title'])\n",
        "print(\"Number of User Ratings:\", third_most_popular_scifi_movie['rating_count'])\n",
        "print(\"Average Rating:\", third_most_popular_scifi_movie['average_rating'])\n"
      ],
      "metadata": {
        "colab": {
          "base_uri": "https://localhost:8080/"
        },
        "id": "DwQCzcAYhKjI",
        "outputId": "2d30491b-4110-4a09-8310-d43b3017f584"
      },
      "execution_count": 40,
      "outputs": [
        {
          "output_type": "stream",
          "name": "stdout",
          "text": [
            "Third Most Popular Sci-Fi Movie Based on Number of User Ratings:\n",
            "Movie ID: 480\n",
            "Title: Jurassic Park (1993)\n",
            "Number of User Ratings: 238\n",
            "Average Rating: 3.75\n"
          ]
        }
      ]
    },
    {
      "cell_type": "code",
      "source": [],
      "metadata": {
        "id": "4-LNAK86iqgV"
      },
      "execution_count": 40,
      "outputs": []
    },
    {
      "cell_type": "code",
      "source": [],
      "metadata": {
        "id": "j1iun9TuirID"
      },
      "execution_count": 40,
      "outputs": []
    },
    {
      "cell_type": "code",
      "source": [],
      "metadata": {
        "id": "VCASetsKrQlR"
      },
      "execution_count": null,
      "outputs": []
    },
    {
      "cell_type": "markdown",
      "source": [],
      "metadata": {
        "id": "XVTyHyHvrVp3"
      }
    },
    {
      "cell_type": "markdown",
      "source": [],
      "metadata": {
        "id": "UpJk5Ot2rWJb"
      }
    },
    {
      "cell_type": "markdown",
      "source": [],
      "metadata": {
        "id": "wlLRzBU9rWMw"
      }
    },
    {
      "cell_type": "code",
      "source": [],
      "metadata": {
        "id": "lixDaEikirLj"
      },
      "execution_count": null,
      "outputs": []
    }
  ]
}